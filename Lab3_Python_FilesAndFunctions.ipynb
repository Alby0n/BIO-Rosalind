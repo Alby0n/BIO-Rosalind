{
 "cells": [
  {
   "cell_type": "code",
   "execution_count": 7,
   "metadata": {},
   "outputs": [
    {
     "name": "stdout",
     "output_type": "stream",
     "text": [
      "The name is : 00626|HUMAN Small inducible cytokine A22. \n",
      "The sequence is: MARLQTALLVVLVLLAVALQATEAGPYGANMEDSVCCRDYVRYRLPLRVVKHFYWTSDS<= CPRPGVVLLTFRDKEICADPR VPWVKMILNKLSQ \n"
     ]
    }
   ],
   "source": [
    "with open('seqA.fas') as fh: \n",
    " my_file = fh.read() \n",
    "name = my_file.split('\\n')[0][1:] \n",
    "sequence = ''.join(my_file.split('\\n')[1:]) \n",
    "print('The name is : {0}'.format(name)) \n",
    "print('The sequence is: {0}'.format(sequence)) \n"
   ]
  },
  {
   "cell_type": "code",
   "execution_count": 17,
   "metadata": {},
   "outputs": [
    {
     "name": "stdout",
     "output_type": "stream",
     "text": [
      "The name is : 00626|HUMAN Small inducible cytokine A22. \n",
      "The sequence is: MARLQTALLVVLVLLAVALQATEAGPYGANMEDSVCCRDYVRYRLPLRVVKHFYWTSDS<= CPRPGVVLLTFRDKEICADPR VPWVKMILNKLSQ \n"
     ]
    }
   ],
   "source": [
    "sequence = '' \n",
    "with open('seqA.fas') as fh: \n",
    "     name = fh.readline()[1:-1] \n",
    "     for line in fh: \n",
    "       sequence += line.replace('\\n','') \n",
    "print('The name is : {0}'.format(name)) \n",
    "print('The sequence is: {0}'.format(sequence)) \n"
   ]
  },
  {
   "cell_type": "code",
   "execution_count": 25,
   "metadata": {},
   "outputs": [
    {
     "ename": "IndentationError",
     "evalue": "unexpected indent (<ipython-input-25-7d1b251f2f9c>, line 4)",
     "output_type": "error",
     "traceback": [
      "\u001b[0;36m  File \u001b[0;32m\"<ipython-input-25-7d1b251f2f9c>\"\u001b[0;36m, line \u001b[0;32m4\u001b[0m\n\u001b[0;31m    with open('sepA.fas') as fh:\u001b[0m\n\u001b[0m    ^\u001b[0m\n\u001b[0;31mIndentationError\u001b[0m\u001b[0;31m:\u001b[0m unexpected indent\n"
     ]
    }
   ],
   "source": [
    "sequence = '' \n",
    "charge = -0.002 \n",
    "aa_charge = {'C':-.045, 'D':-.999, 'E':-.998,'H':.091, 'K':1, 'R':1, 'Y':-.001}\n",
    " with open('sepA.fas') as fh:\n",
    "  fh.readline() for line in fh: \n",
    "   sequence+= line[:-1].upper()\n",
    "for aa in sequence:\n",
    "    charge += aa_charge.get(aa,0)\n",
    "print(charge) "
   ]
  },
  {
   "cell_type": "code",
   "execution_count": 27,
   "metadata": {},
   "outputs": [
    {
     "data": {
      "text/plain": [
       "10"
      ]
     },
     "execution_count": 27,
     "metadata": {},
     "output_type": "execute_result"
    }
   ],
   "source": [
    "def duplicate(x): \n",
    " return(2*x) \n",
    "duplicate(5)  \n"
   ]
  },
  {
   "cell_type": "code",
   "execution_count": null,
   "metadata": {},
   "outputs": [],
   "source": []
  }
 ],
 "metadata": {
  "kernelspec": {
   "display_name": "Python 3",
   "language": "python",
   "name": "python3"
  },
  "language_info": {
   "codemirror_mode": {
    "name": "ipython",
    "version": 3
   },
   "file_extension": ".py",
   "mimetype": "text/x-python",
   "name": "python",
   "nbconvert_exporter": "python",
   "pygments_lexer": "ipython3",
   "version": "3.8.5"
  }
 },
 "nbformat": 4,
 "nbformat_minor": 4
}
