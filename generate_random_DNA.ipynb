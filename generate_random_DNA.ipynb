import random
from time import process_time
import string

t1_start = process_time()
random_integer = random.randint(10,1000)
letters =['A','G','C','T']
random_string = ''

for _ in range(random_integer):
    random_string += (random.choice(letters))
t1_stop = process_time()

print(random_string)
print(len(random_string))
print("Elapsed time:",t1_stop,t1_start)
print("Elapsed time during the whole program in seconds:",t1_stop-t1_start)
