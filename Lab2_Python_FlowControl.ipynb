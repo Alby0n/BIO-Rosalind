{
 "cells": [
  {
   "cell_type": "markdown",
   "metadata": {},
   "source": [
    "Flow Control Structures in Python \n"
   ]
  },
  {
   "cell_type": "code",
   "execution_count": 2,
   "metadata": {},
   "outputs": [
    {
     "name": "stdout",
     "output_type": "stream",
     "text": [
      "What is height? (in meters): 15\n"
     ]
    }
   ],
   "source": [
    "height = float(input('What is height? (in meters): '))"
   ]
  },
  {
   "cell_type": "code",
   "execution_count": 4,
   "metadata": {},
   "outputs": [
    {
     "name": "stdout",
     "output_type": "stream",
     "text": [
      "You can get in\n"
     ]
    }
   ],
   "source": [
    "if height > 1.40: \n",
    "    print('You can get in')\n",
    "else:       \n",
    "        print(\"This ride is not for you\") "
   ]
  },
  {
   "cell_type": "markdown",
   "metadata": {},
   "source": [
    "Q: Print the three letter codon of amino acid from a codon dictionary "
   ]
  },
  {
   "cell_type": "code",
   "execution_count": 6,
   "metadata": {},
   "outputs": [],
   "source": [
    "three_letter_code = {'A':'Ala','N':'Asn','D':'Asp','C':'Cys'} "
   ]
  },
  {
   "cell_type": "code",
   "execution_count": 7,
   "metadata": {},
   "outputs": [
    {
     "name": "stdout",
     "output_type": "stream",
     "text": [
      "Enter one letter:A\n"
     ]
    }
   ],
   "source": [
    "aa = input('Enter one letter:' ) "
   ]
  },
  {
   "cell_type": "code",
   "execution_count": 8,
   "metadata": {},
   "outputs": [
    {
     "name": "stdout",
     "output_type": "stream",
     "text": [
      "The three letter code for A is Ala\n"
     ]
    }
   ],
   "source": [
    "if aa in three_letter_code: \n",
    "    print(\"The three letter code for {0} is {1}\".format(aa, three_letter_code[aa])) \n",
    "else:\n",
    "    print(\"Sorry , I dont have it in my dictionary\")"
   ]
  },
  {
   "cell_type": "markdown",
   "metadata": {},
   "source": [
    "Read a Primer sequence and make decisions based on Primer length  "
   ]
  },
  {
   "cell_type": "code",
   "execution_count": 12,
   "metadata": {},
   "outputs": [
    {
     "name": "stdout",
     "output_type": "stream",
     "text": [
      "Enter your primer sequence:TAATACGACTCACTATAGGG\n",
      "This size is OK\n"
     ]
    }
   ],
   "source": [
    "dna = input('Enter your primer sequence:') \n",
    "seqsize = len(dna) \n",
    "if seqsize < 10:\n",
    "            print('The primer must have at least ten nucleotides')\n",
    "elif seqsize<25:\n",
    "            print('This size is OK') \n",
    "else:\n",
    "        print('The primer is too long')"
   ]
  },
  {
   "cell_type": "markdown",
   "metadata": {},
   "source": [
    "# Control Structures "
   ]
  },
  {
   "cell_type": "code",
   "execution_count": 13,
   "metadata": {},
   "outputs": [],
   "source": [
    "bases = ['C', 'T', 'G', 'A'] "
   ]
  },
  {
   "cell_type": "code",
   "execution_count": 14,
   "metadata": {},
   "outputs": [
    {
     "name": "stdout",
     "output_type": "stream",
     "text": [
      "C\n",
      "T\n",
      "G\n",
      "A\n"
     ]
    }
   ],
   "source": [
    "for x in bases:\n",
    "    print(x) "
   ]
  },
  {
   "cell_type": "code",
   "execution_count": 16,
   "metadata": {},
   "outputs": [
    {
     "name": "stdout",
     "output_type": "stream",
     "text": [
      "0 C\n",
      "1 T\n",
      "2 G\n",
      "3 A\n"
     ]
    }
   ],
   "source": [
    "for n, x in enumerate(bases):\n",
    "     print(n, x) "
   ]
  },
  {
   "cell_type": "markdown",
   "metadata": {},
   "source": [
    "Q: calculates the molecular weight of a protein based on its individual amino acids. "
   ]
  },
  {
   "cell_type": "code",
   "execution_count": 29,
   "metadata": {},
   "outputs": [
    {
     "name": "stdout",
     "output_type": "stream",
     "text": [
      "Enter your protein sequence: NNGIVLHPDSFFGVGRAGVWPALVIFKHEVTQKVMYPTANQMHIGQFRKGLACPWVLCTH MIEGVAHIVPFWIHCYWRPGQHICNSSWYMRFDEGRCAMT\n"
     ]
    }
   ],
   "source": [
    "prot_seq = input('Enter your protein sequence: ') "
   ]
  },
  {
   "cell_type": "code",
   "execution_count": 30,
   "metadata": {},
   "outputs": [],
   "source": [
    "prot_weight = {'A':89, 'V':117, 'L':131, 'I':131, 'P':115,  'F':165, 'W':204, 'M':149, 'G':75, 'S':105,  'C':121, 'T':119, 'Y':181, 'N':132, 'Q':146, 'D':133, 'E':147, 'K':146, 'R':174, 'H':155}"
   ]
  },
  {
   "cell_type": "code",
   "execution_count": 31,
   "metadata": {},
   "outputs": [
    {
     "name": "stdout",
     "output_type": "stream",
     "text": [
      "The net weight is: 11499\n"
     ]
    }
   ],
   "source": [
    "total_weight = 0 \n",
    "for aa in prot_seq: \n",
    "    total_weight = total_weight + prot_weight.get(aa.upper(), 0) \n",
    "total_weight = total_weight - (18 * (len(prot_seq) - 1)) \n",
    "print('The net weight is: {0}'.format(total_weight))"
   ]
  },
  {
   "cell_type": "markdown",
   "metadata": {},
   "source": [
    "# While loop\n"
   ]
  },
  {
   "cell_type": "code",
   "execution_count": 33,
   "metadata": {},
   "outputs": [
    {
     "name": "stdout",
     "output_type": "stream",
     "text": [
      "10\n",
      "20\n",
      "30\n"
     ]
    }
   ],
   "source": [
    "a = 10\n",
    "while a < 40:\n",
    " print(a)\n",
    " a += 10\n"
   ]
  },
  {
   "cell_type": "raw",
   "metadata": {},
   "source": [
    "BREAK: BREAKING THE LOOP"
   ]
  },
  {
   "cell_type": "code",
   "execution_count": 34,
   "metadata": {},
   "outputs": [
    {
     "name": "stdout",
     "output_type": "stream",
     "text": [
      "3\n"
     ]
    }
   ],
   "source": [
    "color_code = [('red',1), ('green',2), ('blue',3), ('black',4)]\n",
    "name = 'blue'\n",
    "\n",
    "for color_pair in color_code:\n",
    " if name == color_pair[0]:\n",
    "  code=color_pair[1]\n",
    "  break\n",
    "    \n",
    "print(code)\n"
   ]
  },
  {
   "cell_type": "markdown",
   "metadata": {},
   "source": [
    "# 1.1 Problem to Solve"
   ]
  },
  {
   "cell_type": "markdown",
   "metadata": {},
   "source": [
    "Q: Counting the bases in a DNA String"
   ]
  },
  {
   "cell_type": "raw",
   "metadata": {},
   "source": [
    "Method 1: String Iteration"
   ]
  },
  {
   "cell_type": "code",
   "execution_count": null,
   "metadata": {},
   "outputs": [],
   "source": [
    "dna=input('Enter DNA sequence: ')\n",
    "\n",
    "counter_A=0\n",
    "counter_T=0\n",
    "counter_G=0\n",
    "counter_C=0\n",
    "\n",
    "for b in dna:\n",
    "  if(b=='A'):\n",
    "    counter_A=counter_A+1\n",
    "  elif(b=='T'):\n",
    "    counter_T=counter_T+1\n",
    "  elif(b=='G'):\n",
    "    counter_G=counter_G+1\n",
    "  elif(b=='C'):\n",
    "    counter_C=counter_C+1\n",
    "print(\"A: {0} \\nT: {1} \\nG: {2} \\nC: {3}\".format(counter_A,counter_T,counter_G,counter_C))\n"
   ]
  },
  {
   "cell_type": "markdown",
   "metadata": {},
   "source": [
    "Method 2: List Iteration"
   ]
  },
  {
   "cell_type": "code",
   "execution_count": null,
   "metadata": {},
   "outputs": [],
   "source": [
    "dna=input('Enter DNA sequence: ')\n",
    "dna_list=list(dna)\n",
    "\n",
    "counter_A=0\n",
    "counter_T=0\n",
    "counter_G=0\n",
    "counter_C=0\n",
    "\n",
    "for b in dna_list:\n",
    "  if(b=='A'):\n",
    "   counter_A=counter_A+1\n",
    "  elif(b=='T'):\n",
    "   counter_T=counter_T+1\n",
    "  elif(b=='G'):\n",
    "   counter_G=counter_G+1\n",
    "  elif(b=='C'):\n",
    "   counter_C=counter_C+1\n",
    "print(\"A: {0} \\nT: {1} \\nG: {2} \\nC: {3}\".format(counter_A,counter_T,counter_G,counter_C))"
   ]
  },
  {
   "cell_type": "markdown",
   "metadata": {},
   "source": [
    "Method 3: Index Iteration"
   ]
  },
  {
   "cell_type": "code",
   "execution_count": null,
   "metadata": {},
   "outputs": [],
   "source": [
    "dna=input('Enter DNA sequence: ')\n",
    "\n",
    "counter_A=0\n",
    "counter_T=0\n",
    "counter_G=0\n",
    "counter_C=0\n",
    "for i in range(len(dna)):\n",
    " if(dna[i]=='A'):\n",
    "  counter_A=counter_A+1\n",
    "  i=i+1\n",
    " elif(dna[i]=='T'):\n",
    "  counter_T=counter_T+1\n",
    "  i=i+1\n",
    " elif(dna[i]=='G'):\n",
    "  counter_G=counter_G+1\n",
    "  i=i+1\n",
    " elif(dna[i]=='C'):\n",
    "  counter_C=counter_C+1\n",
    "  i=i+1\n",
    " else:\n",
    "  i=i+1\n",
    "print(\"A: {0} \\nT: {1} \\nG: {2} \\nC: {3}\".format(counter_A,counter_T,counter_G,counter_C))"
   ]
  },
  {
   "cell_type": "markdown",
   "metadata": {},
   "source": [
    "Method 4: Using While loop"
   ]
  },
  {
   "cell_type": "code",
   "execution_count": null,
   "metadata": {},
   "outputs": [],
   "source": [
    "dna=input('Enter DNA sequence: ')\n",
    "\n",
    "counter_A=0\n",
    "counter_T=0\n",
    "counter_G=0\n",
    "counter_C=0\n",
    "\n",
    "length=len(dna)\n",
    "i=0\n",
    "\n",
    "while i<length:\n",
    " if(dna[i]=='A'):\n",
    "  counter_A=counter_A+1\n",
    "  i=i+1\n",
    " elif(dna[i]=='T'):\n",
    "  counter_T=counter_T+1\n",
    "  i=i+1\n",
    " elif(dna[i]=='G'):\n",
    "  counter_G=counter_G+1\n",
    "  i=i+1\n",
    " elif(dna[i]=='C'):\n",
    "  counter_C=counter_C+1\n",
    "  i=i+1\n",
    " else:\n",
    "  i=i+1\n",
    "print(\"A: {0} \\nT: {1} \\nG: {2} \\nC: {3}\".format(counter_A,counter_T,counter_G,counter_C))\n",
    "\n",
    "  \n"
   ]
  },
  {
   "cell_type": "markdown",
   "metadata": {},
   "source": [
    "Method 5: Using Python’s Library"
   ]
  },
  {
   "cell_type": "code",
   "execution_count": null,
   "metadata": {},
   "outputs": [],
   "source": [
    "dna=input('Enter DNA sequence: ')\n",
    "\n",
    "counter_A=dna.count('A')\n",
    "counter_T=dna.count('T')\n",
    "counter_G=dna.count('G')\n",
    "counter_C=dna.count('C')\n",
    "\n",
    "print(\"A: {0} \\nT: {1} \\nG: {2} \\nC: {3}\".format(counter_A,counter_T,counter_G,counter_C))"
   ]
  },
  {
   "cell_type": "code",
   "execution_count": null,
   "metadata": {},
   "outputs": [],
   "source": []
  }
 ],
 "metadata": {
  "kernelspec": {
   "display_name": "Python 3",
   "language": "python",
   "name": "python3"
  },
  "language_info": {
   "codemirror_mode": {
    "name": "ipython",
    "version": 3
   },
   "file_extension": ".py",
   "mimetype": "text/x-python",
   "name": "python",
   "nbconvert_exporter": "python",
   "pygments_lexer": "ipython3",
   "version": "3.8.5"
  }
 },
 "nbformat": 4,
 "nbformat_minor": 4
}
